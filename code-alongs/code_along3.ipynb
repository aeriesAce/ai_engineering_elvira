{
 "cells": [
  {
   "cell_type": "code",
   "execution_count": null,
   "id": "c6263cbb",
   "metadata": {},
   "outputs": [],
   "source": [
    "import pandas as pd\n",
    "import numpy as np\n",
    "from sklearn.preprocessing import MinMaxScaler\n",
    "from sklearn.model_selection import train_test_split\n",
    "from sklearn.linear_model import LinearRegression\n",
    "from sklearn.metrics import mean_absolute_error, mean_squared_error"
   ]
  },
  {
   "cell_type": "code",
   "execution_count": null,
   "id": "ae236dd7",
   "metadata": {},
   "outputs": [],
   "source": [
    "df = pd.read_csv(\"../data/Advertising.csv\", index_col=0)\n",
    "\n",
    "print(f\"{df.shape[0]} samples\")\n",
    "print(f\"{df.shape[1] -1} features\") # subtract one as sales is the label\n",
    "\n",
    "df.head()"
   ]
  },
  {
   "cell_type": "code",
   "execution_count": null,
   "id": "be39ab07",
   "metadata": {},
   "outputs": [],
   "source": [
    "# we drop the Sales column since Sales is a dependet variable, its value depends on the vaule of features\n",
    "# so it can be considered the label\n",
    "# x - design matrix/ feature matrix / features / independent variable\n",
    "# y - \n",
    "X, y = df.drop(\"sales\", axis = \"columns\"), df[\"sales\"] # use tuple unpacking to drop sales from both x and y\n",
    "X.head(2)"
   ]
  },
  {
   "cell_type": "markdown",
   "id": "e6f35567",
   "metadata": {},
   "source": [
    "## Scikit-learn steps\n",
    "1. Train|Test split or Train|val|Test split\n",
    "2. Scale dataset\n",
    "    - many algorithms require scaling, some don't\n",
    "    - different types of scaling (e.g. feature standardization, min-max scaling)\n",
    "    - scale training data and test data to the training datas parameters to avoid data leakage\n",
    "3. Fit algorithm to training data\n",
    "4. Predict on test data\n",
    "5. Evaluation metrics"
   ]
  },
  {
   "cell_type": "markdown",
   "id": "eed03396",
   "metadata": {},
   "source": [
    "## 1. Train|Test"
   ]
  },
  {
   "cell_type": "code",
   "execution_count": null,
   "id": "dfc92659",
   "metadata": {},
   "outputs": [],
   "source": [
    "# split the data into a training set and test set\n",
    "# to avoid data leakage\n",
    "X_train, X_test, y_train, y_test = train_test_split(X, y, test_size=0.33, random_state=42) #train_test_split shuffles the values\n",
    "\n",
    "print(f\"{X_train.shape = }\")\n",
    "print(f\"{X_test.shape = }\")\n",
    "print(f\"{y_train.shape = }\")\n",
    "print(f\"{y_test.shape = }\")"
   ]
  },
  {
   "cell_type": "code",
   "execution_count": null,
   "id": "d3cd1f2e",
   "metadata": {},
   "outputs": [],
   "source": [
    "# now we see that the index have been shuffled\n",
    "X_train.head()"
   ]
  },
  {
   "cell_type": "code",
   "execution_count": null,
   "id": "b7e4e759",
   "metadata": {},
   "outputs": [],
   "source": [
    "# check too se that the index has been correct shuffled throu x and y\n",
    "y_train.head()"
   ]
  },
  {
   "cell_type": "markdown",
   "id": "5c73739d",
   "metadata": {},
   "source": [
    "## 2. Feature scaling\n",
    "\n",
    "- min-max scaling\n",
    "- values transformed into 0 to 1"
   ]
  },
  {
   "cell_type": "code",
   "execution_count": null,
   "id": "b6462214",
   "metadata": {},
   "outputs": [],
   "source": [
    "# instansiate an instance from the class MinMaxScaler\n",
    "scaler = MinMaxScaler()\n",
    "scaler.fit(X_train) # using the training data to fit the scaler\n",
    "\n",
    "# use training datas parameters to transform \n",
    "# both training and test data, else if we use test datas parameters to scale test data, we have \n",
    "# leaked data, which gives misleading results\n",
    "scaled_X_train = scaler.transform(X_train)\n",
    "scaled_X_test = scaler.transform(X_test)\n",
    "\n",
    "# we have now transformed the data so that we only have values between 0 and 1\n",
    "print(f\"{scaled_X_train.min():.2f} ≤ scaled_X_train ≤ {scaled_X_train.max():.2f}\") # 2f so we only have 2 float numbers\n",
    "\n",
    "# different numbers because we fit the test to X_train\n",
    "print(f\"{scaled_X_test.min():.2f} ≤ scaled_X_test ≤ {scaled_X_test.max():.2f}\")"
   ]
  },
  {
   "cell_type": "code",
   "execution_count": null,
   "id": "dc5e0035",
   "metadata": {},
   "outputs": [],
   "source": [
    "# is now an 1 dimensional array instead of a dataframe\n",
    "scaled_X_train"
   ]
  },
  {
   "cell_type": "markdown",
   "id": "a62bb34d",
   "metadata": {},
   "source": [
    "## 3. Linear regression\n",
    "$y = w_0 + w_1x_1 + w_2x_2 + w_3x_3$"
   ]
  },
  {
   "cell_type": "code",
   "execution_count": null,
   "id": "24cbf87e",
   "metadata": {},
   "outputs": [],
   "source": [
    "# intansiate an instanve from the the class LinearRegression\n",
    "model = LinearRegression()\n",
    "model.fit(scaled_X_train, y_train)\n",
    "print(f\"Parameters: {model.coef_}\") # Estimated coefficients for the linear regression problem.\n",
    "print(f\"Intercept parameter: {model.intercept_}\") # Independent term in the linear model"
   ]
  },
  {
   "cell_type": "markdown",
   "id": "ee3534c2",
   "metadata": {},
   "source": [
    "## Prediction"
   ]
  },
  {
   "cell_type": "code",
   "execution_count": null,
   "id": "1dec4351",
   "metadata": {},
   "outputs": [],
   "source": [
    "# create test samples\n",
    "test_sample_features = scaled_X_test[0].reshape(1,-1)\n",
    "test_sample_target = y_test.values[0]\n",
    "\n",
    "print(f\"Scaled features {test_sample_features}, label {test_sample_target}\")\n",
    "print(f\"Prediction: {model.predict(test_sample_features)[0]:.2f}\")"
   ]
  },
  {
   "cell_type": "markdown",
   "id": "6f806b64",
   "metadata": {},
   "source": [
    "## 5. Evaluate\n",
    "\n",
    "common metrics for regression case\n",
    "- mae - mean absolut error\n",
    "- mse mean squared error\n",
    "- rmse - root mean squared error"
   ]
  },
  {
   "cell_type": "code",
   "execution_count": 69,
   "id": "6e70687b",
   "metadata": {},
   "outputs": [
    {
     "name": "stdout",
     "output_type": "stream",
     "text": [
      "MAE: 1.4937750024728984, MSE: 3.72792833068152, RMSE: 1.9307843822347228\n"
     ]
    }
   ],
   "source": [
    "# evaluate the regression \n",
    "y_pred = model.predict(scaled_X_test)\n",
    "\n",
    "mae = mean_absolute_error(y_test, y_pred)\n",
    "mse = mean_squared_error(y_test, y_pred)\n",
    "rmse = np.sqrt(mse)\n",
    "\n",
    "print(f\"MAE: {mae}, MSE: {mse}, RMSE: {rmse}\")"
   ]
  }
 ],
 "metadata": {
  "kernelspec": {
   "display_name": "ai_engineering_elvira",
   "language": "python",
   "name": "python3"
  },
  "language_info": {
   "codemirror_mode": {
    "name": "ipython",
    "version": 3
   },
   "file_extension": ".py",
   "mimetype": "text/x-python",
   "name": "python",
   "nbconvert_exporter": "python",
   "pygments_lexer": "ipython3",
   "version": "3.13.1"
  }
 },
 "nbformat": 4,
 "nbformat_minor": 5
}
