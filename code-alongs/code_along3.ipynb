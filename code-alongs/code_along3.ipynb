{
 "cells": [
  {
   "cell_type": "code",
   "execution_count": null,
   "id": "ae236dd7",
   "metadata": {},
   "outputs": [],
   "source": [
    "import pandas as pd\n",
    "import numpy as np\n",
    "from sklearn.preprocessing import MinMaxScaler\n",
    "from sklearn.model_selection import train_test_split\n",
    "from sklearn.linear_model import LinearRegression\n",
    "from sklearn.metrics import mean_absolute_error, mean_squared_error\n",
    "\n",
    "df = pd.read_csv(\"../data/Advertising.csv\", index_col=0)\n",
    "\n",
    "print(f\"{df.shape[0]} samples\")\n",
    "print(f\"{df.shape[1] -1} features\") # subtract one as sales is the label\n",
    "\n",
    "df.head()"
   ]
  },
  {
   "cell_type": "code",
   "execution_count": null,
   "id": "be39ab07",
   "metadata": {},
   "outputs": [],
   "source": [
    "# we drop the Sales column since Sales is a dependet variable, its value depends on the vaule of features\n",
    "# so it can be considered the label\n",
    "X, y = df.drop(\"sales\", axis = \"columns\"), df[\"sales\"] # use tuple unpacking to drop sales from both x and y\n",
    "X.head(2)"
   ]
  },
  {
   "cell_type": "markdown",
   "id": "e6f35567",
   "metadata": {},
   "source": [
    "## Scikit-learn steps\n",
    "1. Train|Test split or Train|val|Test split\n",
    "2. Scale dataset\n",
    "    - many algorithms require scaling, some don't\n",
    "    - different types of scaling"
   ]
  },
  {
   "cell_type": "code",
   "execution_count": null,
   "id": "dfc92659",
   "metadata": {},
   "outputs": [],
   "source": [
    "# split the data into a training set and test set\n",
    "# to avoid data leakage\n",
    "X_train, X_test, y_train, y_test = train_test_split(X, y, test_size=0.3, random_state=42)\n",
    "X_train.shape, X_test.shape, y_train.shape, y_test.shape"
   ]
  },
  {
   "cell_type": "code",
   "execution_count": null,
   "id": "b6462214",
   "metadata": {},
   "outputs": [],
   "source": [
    "# normalization\n",
    "# instansiate an object from the class MinMaxScaler\n",
    "scaler = MinMaxScaler()\n",
    "scaler.fit(X_train) # using the training data to fit the scaler\n",
    "\n",
    "# use training datas parameters to transform \n",
    "# both training and test data, else if we use test datas parameters to scale test data, we have \n",
    "# leaked data, which might give misleading results\n",
    "scaled_X_train = scaler.transform(X_train)\n",
    "scaled_X_test = scaler.transform(X_test)\n",
    "\n",
    "print(f\"{scaled_X_train.min():.2f} ≤ scaled_X_train ≤ {scaled_X_train.max():.2f}\")\n",
    "print(f\"{scaled_X_test.min():.2f} ≤ scaled_X_test ≤ {scaled_X_test.max():.2f}\")"
   ]
  },
  {
   "cell_type": "code",
   "execution_count": null,
   "id": "24cbf87e",
   "metadata": {},
   "outputs": [],
   "source": [
    "# this model uses SVD approach for solving normal equation\n",
    "model = LinearRegression()\n",
    "model.fit(scaled_X_train, y_train)\n",
    "print(f\"Parameters: {model.coef_}\") # Estimated coefficients for the linear regression problem.\n",
    "print(f\"Intercept parameter: {model.intercept_}\") # Independent term in the linear model"
   ]
  },
  {
   "cell_type": "code",
   "execution_count": null,
   "id": "1dec4351",
   "metadata": {},
   "outputs": [],
   "source": [
    "test_sample_features = scaled_X_test[0].reshape(1,-1)\n",
    "test_sample_target = y_test.values[0]\n",
    "\n",
    "print(f\"Scaled features {test_sample_features}, label {test_sample_target}\")\n",
    "print(f\"Prediction: {model.predict(test_sample_features)[0]:.2f}\")"
   ]
  },
  {
   "cell_type": "code",
   "execution_count": 28,
   "id": "6e70687b",
   "metadata": {},
   "outputs": [
    {
     "name": "stdout",
     "output_type": "stream",
     "text": [
      "MAE: 1.51, MSE: 3.80, RMSE: 1.95\n"
     ]
    }
   ],
   "source": [
    "# predict the test data\n",
    "y_pred = model.predict(scaled_X_test)\n",
    "\n",
    "mae = mean_absolute_error(y_test, y_pred)\n",
    "mse = mean_squared_error(y_test, y_pred)\n",
    "rmse = np.sqrt(mse)\n",
    "\n",
    "print(f\"MAE: {mae:.2f}, MSE: {mse:.2f}, RMSE: {rmse:.2f}\")"
   ]
  }
 ],
 "metadata": {
  "kernelspec": {
   "display_name": "ai_engineering_elvira",
   "language": "python",
   "name": "python3"
  },
  "language_info": {
   "codemirror_mode": {
    "name": "ipython",
    "version": 3
   },
   "file_extension": ".py",
   "mimetype": "text/x-python",
   "name": "python",
   "nbconvert_exporter": "python",
   "pygments_lexer": "ipython3",
   "version": "3.13.1"
  }
 },
 "nbformat": 4,
 "nbformat_minor": 5
}
