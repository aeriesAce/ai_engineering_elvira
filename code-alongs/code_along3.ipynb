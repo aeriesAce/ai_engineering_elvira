{
 "cells": [
  {
   "cell_type": "code",
   "execution_count": 36,
   "id": "c6263cbb",
   "metadata": {},
   "outputs": [],
   "source": [
    "import pandas as pd\n",
    "import numpy as np\n",
    "from sklearn.preprocessing import MinMaxScaler\n",
    "from sklearn.model_selection import train_test_split\n",
    "from sklearn.linear_model import LinearRegression\n",
    "from sklearn.metrics import mean_absolute_error, mean_squared_error"
   ]
  },
  {
   "cell_type": "code",
   "execution_count": 37,
   "id": "ae236dd7",
   "metadata": {},
   "outputs": [
    {
     "name": "stdout",
     "output_type": "stream",
     "text": [
      "200 samples\n",
      "3 features\n"
     ]
    },
    {
     "data": {
      "text/html": [
       "<div>\n",
       "<style scoped>\n",
       "    .dataframe tbody tr th:only-of-type {\n",
       "        vertical-align: middle;\n",
       "    }\n",
       "\n",
       "    .dataframe tbody tr th {\n",
       "        vertical-align: top;\n",
       "    }\n",
       "\n",
       "    .dataframe thead th {\n",
       "        text-align: right;\n",
       "    }\n",
       "</style>\n",
       "<table border=\"1\" class=\"dataframe\">\n",
       "  <thead>\n",
       "    <tr style=\"text-align: right;\">\n",
       "      <th></th>\n",
       "      <th>TV</th>\n",
       "      <th>radio</th>\n",
       "      <th>newspaper</th>\n",
       "      <th>sales</th>\n",
       "    </tr>\n",
       "  </thead>\n",
       "  <tbody>\n",
       "    <tr>\n",
       "      <th>1</th>\n",
       "      <td>230.1</td>\n",
       "      <td>37.8</td>\n",
       "      <td>69.2</td>\n",
       "      <td>22.1</td>\n",
       "    </tr>\n",
       "    <tr>\n",
       "      <th>2</th>\n",
       "      <td>44.5</td>\n",
       "      <td>39.3</td>\n",
       "      <td>45.1</td>\n",
       "      <td>10.4</td>\n",
       "    </tr>\n",
       "    <tr>\n",
       "      <th>3</th>\n",
       "      <td>17.2</td>\n",
       "      <td>45.9</td>\n",
       "      <td>69.3</td>\n",
       "      <td>9.3</td>\n",
       "    </tr>\n",
       "    <tr>\n",
       "      <th>4</th>\n",
       "      <td>151.5</td>\n",
       "      <td>41.3</td>\n",
       "      <td>58.5</td>\n",
       "      <td>18.5</td>\n",
       "    </tr>\n",
       "    <tr>\n",
       "      <th>5</th>\n",
       "      <td>180.8</td>\n",
       "      <td>10.8</td>\n",
       "      <td>58.4</td>\n",
       "      <td>12.9</td>\n",
       "    </tr>\n",
       "  </tbody>\n",
       "</table>\n",
       "</div>"
      ],
      "text/plain": [
       "      TV  radio  newspaper  sales\n",
       "1  230.1   37.8       69.2   22.1\n",
       "2   44.5   39.3       45.1   10.4\n",
       "3   17.2   45.9       69.3    9.3\n",
       "4  151.5   41.3       58.5   18.5\n",
       "5  180.8   10.8       58.4   12.9"
      ]
     },
     "execution_count": 37,
     "metadata": {},
     "output_type": "execute_result"
    }
   ],
   "source": [
    "df = pd.read_csv(\"../data/Advertising.csv\", index_col=0)\n",
    "\n",
    "print(f\"{df.shape[0]} samples\")\n",
    "print(f\"{df.shape[1] -1} features\") # subtract one as sales is the label\n",
    "\n",
    "df.head()"
   ]
  },
  {
   "cell_type": "code",
   "execution_count": 38,
   "id": "be39ab07",
   "metadata": {},
   "outputs": [
    {
     "data": {
      "text/html": [
       "<div>\n",
       "<style scoped>\n",
       "    .dataframe tbody tr th:only-of-type {\n",
       "        vertical-align: middle;\n",
       "    }\n",
       "\n",
       "    .dataframe tbody tr th {\n",
       "        vertical-align: top;\n",
       "    }\n",
       "\n",
       "    .dataframe thead th {\n",
       "        text-align: right;\n",
       "    }\n",
       "</style>\n",
       "<table border=\"1\" class=\"dataframe\">\n",
       "  <thead>\n",
       "    <tr style=\"text-align: right;\">\n",
       "      <th></th>\n",
       "      <th>TV</th>\n",
       "      <th>radio</th>\n",
       "      <th>newspaper</th>\n",
       "    </tr>\n",
       "  </thead>\n",
       "  <tbody>\n",
       "    <tr>\n",
       "      <th>1</th>\n",
       "      <td>230.1</td>\n",
       "      <td>37.8</td>\n",
       "      <td>69.2</td>\n",
       "    </tr>\n",
       "    <tr>\n",
       "      <th>2</th>\n",
       "      <td>44.5</td>\n",
       "      <td>39.3</td>\n",
       "      <td>45.1</td>\n",
       "    </tr>\n",
       "  </tbody>\n",
       "</table>\n",
       "</div>"
      ],
      "text/plain": [
       "      TV  radio  newspaper\n",
       "1  230.1   37.8       69.2\n",
       "2   44.5   39.3       45.1"
      ]
     },
     "execution_count": 38,
     "metadata": {},
     "output_type": "execute_result"
    }
   ],
   "source": [
    "# we drop the Sales column since Sales is a dependet variable, its value depends on the vaule of features\n",
    "# so it can be considered the label\n",
    "# x - design matrix/ feature matrix / features / independent variable\n",
    "# y - \n",
    "X, y = df.drop(\"sales\", axis = \"columns\"), df[\"sales\"] # use tuple unpacking to drop sales from both x and y\n",
    "X.head(2)"
   ]
  },
  {
   "cell_type": "markdown",
   "id": "e6f35567",
   "metadata": {},
   "source": [
    "## Scikit-learn steps\n",
    "1. Train|Test split or Train|val|Test split\n",
    "2. Scale dataset\n",
    "    - many algorithms require scaling, some don't\n",
    "    - different types of scaling (e.g. feature standardization, min-max scaling)\n",
    "    - scale training data and test data to the training datas parameters to avoid data leakage\n",
    "3. Fit algorithm to training data\n",
    "4. Predict on test data\n",
    "5. Evaluation metrics"
   ]
  },
  {
   "cell_type": "markdown",
   "id": "eed03396",
   "metadata": {},
   "source": [
    "## 1. Train|Test"
   ]
  },
  {
   "cell_type": "code",
   "execution_count": 47,
   "id": "dfc92659",
   "metadata": {},
   "outputs": [
    {
     "name": "stdout",
     "output_type": "stream",
     "text": [
      "X_train.shape = (134, 3)\n",
      "X_test.shape = (66, 3)\n",
      "y_train.shape = (134,)\n",
      "y_test.shape = (66,)\n"
     ]
    }
   ],
   "source": [
    "# split the data into a training set and test set\n",
    "# to avoid data leakage\n",
    "X_train, X_test, y_train, y_test = train_test_split(X, y, test_size=0.33, random_state=42) #train_test_split shuffles the values\n",
    "\n",
    "print(f\"{X_train.shape = }\")\n",
    "print(f\"{X_test.shape = }\")\n",
    "print(f\"{y_train.shape = }\")\n",
    "print(f\"{y_test.shape = }\")"
   ]
  },
  {
   "cell_type": "code",
   "execution_count": 49,
   "id": "d3cd1f2e",
   "metadata": {},
   "outputs": [
    {
     "data": {
      "text/html": [
       "<div>\n",
       "<style scoped>\n",
       "    .dataframe tbody tr th:only-of-type {\n",
       "        vertical-align: middle;\n",
       "    }\n",
       "\n",
       "    .dataframe tbody tr th {\n",
       "        vertical-align: top;\n",
       "    }\n",
       "\n",
       "    .dataframe thead th {\n",
       "        text-align: right;\n",
       "    }\n",
       "</style>\n",
       "<table border=\"1\" class=\"dataframe\">\n",
       "  <thead>\n",
       "    <tr style=\"text-align: right;\">\n",
       "      <th></th>\n",
       "      <th>TV</th>\n",
       "      <th>radio</th>\n",
       "      <th>newspaper</th>\n",
       "    </tr>\n",
       "  </thead>\n",
       "  <tbody>\n",
       "    <tr>\n",
       "      <th>43</th>\n",
       "      <td>293.6</td>\n",
       "      <td>27.7</td>\n",
       "      <td>1.8</td>\n",
       "    </tr>\n",
       "    <tr>\n",
       "      <th>190</th>\n",
       "      <td>18.7</td>\n",
       "      <td>12.1</td>\n",
       "      <td>23.4</td>\n",
       "    </tr>\n",
       "    <tr>\n",
       "      <th>91</th>\n",
       "      <td>134.3</td>\n",
       "      <td>4.9</td>\n",
       "      <td>9.3</td>\n",
       "    </tr>\n",
       "    <tr>\n",
       "      <th>137</th>\n",
       "      <td>25.6</td>\n",
       "      <td>39.0</td>\n",
       "      <td>9.3</td>\n",
       "    </tr>\n",
       "    <tr>\n",
       "      <th>52</th>\n",
       "      <td>100.4</td>\n",
       "      <td>9.6</td>\n",
       "      <td>3.6</td>\n",
       "    </tr>\n",
       "  </tbody>\n",
       "</table>\n",
       "</div>"
      ],
      "text/plain": [
       "        TV  radio  newspaper\n",
       "43   293.6   27.7        1.8\n",
       "190   18.7   12.1       23.4\n",
       "91   134.3    4.9        9.3\n",
       "137   25.6   39.0        9.3\n",
       "52   100.4    9.6        3.6"
      ]
     },
     "execution_count": 49,
     "metadata": {},
     "output_type": "execute_result"
    }
   ],
   "source": [
    "# now we see that the index have been shuffled\n",
    "X_train.head()"
   ]
  },
  {
   "cell_type": "code",
   "execution_count": 41,
   "id": "b7e4e759",
   "metadata": {},
   "outputs": [
    {
     "data": {
      "text/plain": [
       "43     20.7\n",
       "190     6.7\n",
       "91     11.2\n",
       "137     9.5\n",
       "52     10.7\n",
       "Name: sales, dtype: float64"
      ]
     },
     "execution_count": 41,
     "metadata": {},
     "output_type": "execute_result"
    }
   ],
   "source": [
    "# check too se that the index has been correct shuffled throu x and y\n",
    "y_train.head()"
   ]
  },
  {
   "cell_type": "markdown",
   "id": "5c73739d",
   "metadata": {},
   "source": [
    "## 2. Feature scaling\n",
    "\n",
    "- min-max scaling\n",
    "- values transformed into 0 to 1"
   ]
  },
  {
   "cell_type": "code",
   "execution_count": 42,
   "id": "b6462214",
   "metadata": {},
   "outputs": [
    {
     "name": "stdout",
     "output_type": "stream",
     "text": [
      "0.00 ≤ scaled_X_train ≤ 1.00\n",
      "0.01 ≤ scaled_X_test ≤ 1.13\n"
     ]
    }
   ],
   "source": [
    "# instansiate an instance from the class MinMaxScaler\n",
    "scaler = MinMaxScaler()\n",
    "scaler.fit(X_train) # using the training data to fit the scaler\n",
    "\n",
    "# use training datas parameters to transform \n",
    "# both training and test data, else if we use test datas parameters to scale test data, we have \n",
    "# leaked data, which gives misleading results\n",
    "scaled_X_train = scaler.transform(X_train)\n",
    "scaled_X_test = scaler.transform(X_test)\n",
    "\n",
    "# we have now transformed the data so that we only have values between 0 and 1\n",
    "print(f\"{scaled_X_train.min():.2f} ≤ scaled_X_train ≤ {scaled_X_train.max():.2f}\") # 2f so we only have 2 float numbers\n",
    "\n",
    "# different numbers because we fit the test to X_train\n",
    "print(f\"{scaled_X_test.min():.2f} ≤ scaled_X_test ≤ {scaled_X_test.max():.2f}\")"
   ]
  },
  {
   "cell_type": "code",
   "execution_count": 43,
   "id": "dc5e0035",
   "metadata": {},
   "outputs": [
    {
     "data": {
      "text/plain": [
       "array([[0.99053094, 0.55846774, 0.01491054],\n",
       "       [0.06087251, 0.24395161, 0.22962227],\n",
       "       [0.45180927, 0.09879032, 0.08946322],\n",
       "       [0.08420697, 0.78629032, 0.08946322],\n",
       "       [0.33716605, 0.19354839, 0.03280318],\n",
       "       [0.26885357, 0.        , 0.08846918],\n",
       "       [0.63476496, 0.36491935, 0.25149105],\n",
       "       [0.59621238, 0.6733871 , 0.38170974],\n",
       "       [0.42272574, 0.74395161, 0.78429423],\n",
       "       [0.70645925, 0.41532258, 0.10337972],\n",
       "       [0.4808928 , 0.59072581, 0.1222664 ],\n",
       "       [0.62292864, 0.88508065, 0.0139165 ],\n",
       "       [0.74974636, 0.08669355, 0.49204771],\n",
       "       [0.81501522, 0.76612903, 0.22763419],\n",
       "       [0.0557998 , 0.92540323, 0.68588469],\n",
       "       [0.40514034, 0.57459677, 0.13817097],\n",
       "       [0.30098072, 0.19959677, 0.35188867],\n",
       "       [0.64389584, 0.57862903, 0.17793241],\n",
       "       [0.25295908, 0.21774194, 0.05666004],\n",
       "       [0.65099763, 0.37096774, 0.6500994 ],\n",
       "       [0.2874535 , 0.72177419, 0.48707753],\n",
       "       [0.90023673, 0.88306452, 0.04671968],\n",
       "       [0.13121407, 0.82862903, 0.05467197],\n",
       "       [0.88129861, 0.8608871 , 0.54075547],\n",
       "       [0.04227257, 0.32056452, 0.49005964],\n",
       "       [0.65268854, 0.71370968, 0.74850895],\n",
       "       [1.        , 0.73185484, 1.        ],\n",
       "       [0.89584038, 0.40322581, 0.        ],\n",
       "       [0.72370646, 0.48387097, 0.03677932],\n",
       "       [0.50388908, 0.71774194, 0.05666004],\n",
       "       [0.44301657, 0.37096774, 0.34095427],\n",
       "       [0.19208657, 0.66129032, 0.2306163 ],\n",
       "       [0.80960433, 0.33669355, 0.22465209],\n",
       "       [0.47548191, 0.54032258, 0.45626243],\n",
       "       [0.60906324, 0.21774194, 0.57753479],\n",
       "       [0.32634427, 0.03024194, 0.29522863],\n",
       "       [0.74332093, 0.66935484, 0.37375746],\n",
       "       [0.4721001 , 0.03830645, 0.08648111],\n",
       "       [0.86134596, 0.54233871, 0.05168986],\n",
       "       [0.32296246, 0.2983871 , 0.38369781],\n",
       "       [0.2211701 , 0.11693548, 0.23757455],\n",
       "       [0.80689888, 0.3125    , 0.26838966],\n",
       "       [0.59181603, 0.31048387, 0.02087475],\n",
       "       [0.80960433, 0.14717742, 0.08349901],\n",
       "       [0.05816706, 0.75806452, 0.21172962],\n",
       "       [0.77578627, 0.76209677, 0.68489066],\n",
       "       [0.95671288, 0.84677419, 0.65506958],\n",
       "       [0.57693608, 0.80040323, 0.37176938],\n",
       "       [0.67095029, 0.61693548, 0.38170974],\n",
       "       [0.41393304, 0.69758065, 0.12027833],\n",
       "       [0.44098749, 0.86290323, 0.28429423],\n",
       "       [0.08251606, 0.51814516, 0.42743539],\n",
       "       [0.550558  , 0.74193548, 0.07057654],\n",
       "       [0.83902604, 0.54637097, 0.22465209],\n",
       "       [0.68244843, 0.44959677, 0.3111332 ],\n",
       "       [0.04193439, 0.00806452, 0.25149105],\n",
       "       [0.01149814, 0.23387097, 0.05367793],\n",
       "       [0.31518431, 0.87701613, 0.49900596],\n",
       "       [0.8867095 , 0.07056452, 0.19085487],\n",
       "       [0.76969902, 0.34072581, 0.25745527],\n",
       "       [0.85593507, 0.42943548, 0.29522863],\n",
       "       [0.82008793, 0.98790323, 0.43737575],\n",
       "       [0.80858979, 0.08266129, 0.3638171 ],\n",
       "       [0.76868448, 0.76008065, 0.31510934],\n",
       "       [0.72607372, 0.47580645, 0.5695825 ],\n",
       "       [0.80892797, 0.83669355, 0.18091451],\n",
       "       [0.36083869, 0.28225806, 0.10536779],\n",
       "       [0.63273588, 0.42540323, 0.09145129],\n",
       "       [0.69732837, 0.16935484, 0.25944334],\n",
       "       [0.14305039, 0.52217742, 0.20079523],\n",
       "       [0.50997633, 0.83266129, 0.57852883],\n",
       "       [0.46398377, 0.93548387, 0.58349901],\n",
       "       [0.61515049, 0.93145161, 0.5805169 ],\n",
       "       [0.74095367, 0.67540323, 0.44532803],\n",
       "       [0.52722354, 0.05241935, 0.07952286],\n",
       "       [0.93337842, 0.04637097, 0.23260437],\n",
       "       [0.69090294, 0.90927419, 0.19184891],\n",
       "       [0.22387555, 0.2358871 , 0.36282306],\n",
       "       [0.25600271, 0.53830645, 0.21868787],\n",
       "       [0.32127156, 0.02822581, 0.07057654],\n",
       "       [0.4041258 , 0.39516129, 0.11232604],\n",
       "       [0.7612445 , 0.16532258, 0.55864811],\n",
       "       [0.09435238, 0.03024194, 0.3250497 ],\n",
       "       [0.22894826, 0.89717742, 0.35089463],\n",
       "       [0.83767332, 0.60887097, 0.19880716],\n",
       "       [0.73655732, 0.10887097, 0.2693837 ],\n",
       "       [0.36895502, 0.96370968, 0.50795229],\n",
       "       [0.02671627, 0.04233871, 0.00695825],\n",
       "       [0.32735881, 0.15322581, 0.06858847],\n",
       "       [0.71017924, 0.59475806, 0.08946322],\n",
       "       [0.5539398 , 0.42137097, 0.46819085],\n",
       "       [0.89448766, 0.05846774, 0.42445328],\n",
       "       [0.94927291, 0.7983871 , 0.55168986],\n",
       "       [0.08826513, 0.66532258, 0.1888668 ],\n",
       "       [0.93405479, 0.9858871 , 0.41252485],\n",
       "       [0.12242137, 0.77822581, 0.64910537],\n",
       "       [0.69699019, 0.10483871, 0.18986083],\n",
       "       [0.97024011, 0.86693548, 0.71073559],\n",
       "       [0.3449442 , 0.59677419, 0.0805169 ],\n",
       "       [0.88603314, 0.58064516, 0.15506958],\n",
       "       [0.30334799, 0.00604839, 0.22763419],\n",
       "       [0.67331755, 0.0625    , 0.34095427],\n",
       "       [0.31619885, 0.09879032, 0.07753479],\n",
       "       [0.71051742, 1.        , 0.37176938],\n",
       "       [0.76597903, 0.31854839, 0.49304175],\n",
       "       [0.2962462 , 0.5141129 , 0.72664016],\n",
       "       [0.80047345, 0.10282258, 0.2306163 ],\n",
       "       [0.4582347 , 0.38709677, 0.16202783],\n",
       "       [0.58099425, 0.36491935, 0.30218688],\n",
       "       [0.0557998 , 0.08266129, 0.3111332 ],\n",
       "       [0.19918837, 0.24193548, 0.42544732],\n",
       "       [0.25025364, 0.99596774, 0.45129225],\n",
       "       [0.50422726, 0.02620968, 0.23856859],\n",
       "       [0.56171796, 0.84677419, 0.03280318],\n",
       "       [0.1481231 , 0.79233871, 0.44532803],\n",
       "       [0.72945553, 0.84072581, 0.39065606],\n",
       "       [0.14879946, 0.52016129, 0.20178926],\n",
       "       [0.        , 0.7983871 , 0.08349901],\n",
       "       [0.40683125, 0.16935484, 0.48111332],\n",
       "       [0.63307406, 0.34677419, 0.1749503 ],\n",
       "       [0.45485289, 0.84072581, 0.45328032],\n",
       "       [0.46838011, 0.28830645, 0.25149105],\n",
       "       [0.37199865, 0.81854839, 0.62524851],\n",
       "       [0.71931011, 0.49596774, 0.12723658],\n",
       "       [0.06121069, 0.4375    , 0.49801193],\n",
       "       [0.78254988, 0.1733871 , 0.08349901],\n",
       "       [0.73621914, 0.55846774, 0.527833  ],\n",
       "       [0.96482922, 0.28024194, 0.03379722],\n",
       "       [0.36895502, 0.28830645, 0.31212724],\n",
       "       [0.08217788, 0.22177419, 0.29224652],\n",
       "       [0.68785932, 0.66330645, 0.45427435],\n",
       "       [0.73385188, 0.67540323, 0.58349901],\n",
       "       [0.55765979, 0.2016129 , 0.17196819],\n",
       "       [0.94521474, 0.20362903, 0.20974155]])"
      ]
     },
     "execution_count": 43,
     "metadata": {},
     "output_type": "execute_result"
    }
   ],
   "source": [
    "# is now an 1 dimensional array instead of a dataframe\n",
    "scaled_X_train"
   ]
  },
  {
   "cell_type": "markdown",
   "id": "a62bb34d",
   "metadata": {},
   "source": [
    "## 3. Linear regression\n",
    "$y = w_0 + w_1x_1 + w_2x_2 + w_3x_3$"
   ]
  },
  {
   "cell_type": "code",
   "execution_count": 44,
   "id": "24cbf87e",
   "metadata": {},
   "outputs": [
    {
     "name": "stdout",
     "output_type": "stream",
     "text": [
      "Parameters: [13.20747617  9.75285112  0.61108329]\n",
      "Intercept parameter: 2.79115951962436\n"
     ]
    }
   ],
   "source": [
    "# intansiate an instance from the the class LinearRegression\n",
    "model = LinearRegression()\n",
    "model.fit(scaled_X_train, y_train)\n",
    "print(f\"Parameters: {model.coef_}\") # Estimated coefficients for the linear regression problem.\n",
    "print(f\"Intercept parameter: {model.intercept_}\") # Independent term in the linear model"
   ]
  },
  {
   "cell_type": "markdown",
   "id": "ee3534c2",
   "metadata": {},
   "source": [
    "## Prediction"
   ]
  },
  {
   "cell_type": "code",
   "execution_count": 45,
   "id": "1dec4351",
   "metadata": {},
   "outputs": [
    {
     "name": "stdout",
     "output_type": "stream",
     "text": [
      "Scaled features [[0.54988164 0.63709677 0.52286282]], label 16.9\n",
      "Prediction: 16.59\n"
     ]
    }
   ],
   "source": [
    "# create test samples\n",
    "test_sample_features = scaled_X_test[0].reshape(1,-1)\n",
    "test_sample_target = y_test.values[0]\n",
    "\n",
    "print(f\"Scaled features {test_sample_features}, label {test_sample_target}\")\n",
    "print(f\"Prediction: {model.predict(test_sample_features)[0]:.2f}\")"
   ]
  },
  {
   "cell_type": "markdown",
   "id": "6f806b64",
   "metadata": {},
   "source": [
    "## 5. Evaluate\n",
    "\n",
    "common metrics for regression case\n",
    "- mae - mean absolut error\n",
    "- mse mean squared error\n",
    "- rmse - root mean squared error"
   ]
  },
  {
   "cell_type": "code",
   "execution_count": 46,
   "id": "6e70687b",
   "metadata": {},
   "outputs": [
    {
     "name": "stdout",
     "output_type": "stream",
     "text": [
      "MAE: 1.4937750024728984, MSE: 3.72792833068152, RMSE: 1.9307843822347228\n"
     ]
    }
   ],
   "source": [
    "# evaluate the regression \n",
    "y_pred = model.predict(scaled_X_test)\n",
    "\n",
    "mae = mean_absolute_error(y_test, y_pred)\n",
    "mse = mean_squared_error(y_test, y_pred)\n",
    "rmse = np.sqrt(mse)\n",
    "\n",
    "print(f\"MAE: {mae}, MSE: {mse}, RMSE: {rmse}\")"
   ]
  }
 ],
 "metadata": {
  "kernelspec": {
   "display_name": "ai_engineering_elvira",
   "language": "python",
   "name": "python3"
  },
  "language_info": {
   "codemirror_mode": {
    "name": "ipython",
    "version": 3
   },
   "file_extension": ".py",
   "mimetype": "text/x-python",
   "name": "python",
   "nbconvert_exporter": "python",
   "pygments_lexer": "ipython3",
   "version": "3.13.1"
  }
 },
 "nbformat": 4,
 "nbformat_minor": 5
}
