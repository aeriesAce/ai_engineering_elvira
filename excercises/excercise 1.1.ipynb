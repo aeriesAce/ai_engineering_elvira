{
 "cells": [
  {
   "cell_type": "markdown",
   "id": "ecc54c98",
   "metadata": {},
   "source": [
    "a) We want to predict the \"mpg\", split up X and y, and perform train|test split using scikit-learn. \n",
    "Choose test_size of 0.2 and random_state 42. \n",
    "Control the shapes of each X_train, X_test, y_train, y_test."
   ]
  },
  {
   "cell_type": "code",
   "execution_count": 400,
   "id": "5823bf5f",
   "metadata": {},
   "outputs": [],
   "source": [
    "import pandas as pd\n",
    "import numpy as np\n",
    "import seaborn as sns\n",
    "import matplotlib.pyplot as plt\n",
    "from sklearn.preprocessing import MinMaxScaler\n",
    "from sklearn.model_selection import train_test_split\n",
    "from sklearn.linear_model import LinearRegression\n",
    "from sklearn.metrics import mean_absolute_error, mean_squared_error\n",
    "\n",
    "mpg_df = sns.load_dataset('mpg')"
   ]
  },
  {
   "cell_type": "code",
   "execution_count": 401,
   "id": "515a1fef",
   "metadata": {},
   "outputs": [],
   "source": [
    "# drop column name since its not necessary for the mpg evaluation\n",
    "mpg_df.drop([\"name\"], axis = \"columns\", inplace = True)"
   ]
  },
  {
   "cell_type": "code",
   "execution_count": 402,
   "id": "2e3ce9a7",
   "metadata": {},
   "outputs": [],
   "source": [
    "# I need to convert the column origin from string to bool\n",
    "mpg_df = pd.get_dummies(mpg_df, columns=[\"origin\"], drop_first=True)"
   ]
  },
  {
   "cell_type": "code",
   "execution_count": 403,
   "id": "a0813e77",
   "metadata": {},
   "outputs": [],
   "source": [
    "mpg_df[\"horsepower\"] = mpg_df[\"horsepower\"].fillna(mpg_df[\"horsepower\"].median())"
   ]
  },
  {
   "cell_type": "code",
   "execution_count": 404,
   "id": "6590f0ca",
   "metadata": {},
   "outputs": [
    {
     "name": "stdout",
     "output_type": "stream",
     "text": [
      "X_train.shape = (318, 8)\n",
      "X_test.shape = (80, 8)\n",
      "y_train.shape = (318,)\n",
      "y_test.shape = (80,)\n"
     ]
    }
   ],
   "source": [
    "X, y = mpg_df.drop(\"mpg\", axis = \"columns\"), mpg_df[\"mpg\"]\n",
    "\n",
    "X_train, X_test, y_train, y_test = train_test_split(X, y, test_size = 0.2, random_state = 42)\n",
    "\n",
    "print(f\"{X_train.shape = }\")\n",
    "print(f\"{X_test.shape = }\")\n",
    "print(f\"{y_train.shape = }\")\n",
    "print(f\"{y_test.shape = }\")\n"
   ]
  },
  {
   "cell_type": "code",
   "execution_count": 405,
   "id": "86e6ffa4",
   "metadata": {},
   "outputs": [
    {
     "data": {
      "text/html": [
       "<div>\n",
       "<style scoped>\n",
       "    .dataframe tbody tr th:only-of-type {\n",
       "        vertical-align: middle;\n",
       "    }\n",
       "\n",
       "    .dataframe tbody tr th {\n",
       "        vertical-align: top;\n",
       "    }\n",
       "\n",
       "    .dataframe thead th {\n",
       "        text-align: right;\n",
       "    }\n",
       "</style>\n",
       "<table border=\"1\" class=\"dataframe\">\n",
       "  <thead>\n",
       "    <tr style=\"text-align: right;\">\n",
       "      <th></th>\n",
       "      <th>cylinders</th>\n",
       "      <th>displacement</th>\n",
       "      <th>horsepower</th>\n",
       "      <th>weight</th>\n",
       "      <th>acceleration</th>\n",
       "      <th>model_year</th>\n",
       "      <th>origin_japan</th>\n",
       "      <th>origin_usa</th>\n",
       "    </tr>\n",
       "  </thead>\n",
       "  <tbody>\n",
       "    <tr>\n",
       "      <th>3</th>\n",
       "      <td>8</td>\n",
       "      <td>304.0</td>\n",
       "      <td>150.0</td>\n",
       "      <td>3433</td>\n",
       "      <td>12.0</td>\n",
       "      <td>70</td>\n",
       "      <td>False</td>\n",
       "      <td>True</td>\n",
       "    </tr>\n",
       "    <tr>\n",
       "      <th>18</th>\n",
       "      <td>4</td>\n",
       "      <td>97.0</td>\n",
       "      <td>88.0</td>\n",
       "      <td>2130</td>\n",
       "      <td>14.5</td>\n",
       "      <td>70</td>\n",
       "      <td>True</td>\n",
       "      <td>False</td>\n",
       "    </tr>\n",
       "    <tr>\n",
       "      <th>376</th>\n",
       "      <td>4</td>\n",
       "      <td>91.0</td>\n",
       "      <td>68.0</td>\n",
       "      <td>2025</td>\n",
       "      <td>18.2</td>\n",
       "      <td>82</td>\n",
       "      <td>True</td>\n",
       "      <td>False</td>\n",
       "    </tr>\n",
       "    <tr>\n",
       "      <th>248</th>\n",
       "      <td>4</td>\n",
       "      <td>91.0</td>\n",
       "      <td>60.0</td>\n",
       "      <td>1800</td>\n",
       "      <td>16.4</td>\n",
       "      <td>78</td>\n",
       "      <td>True</td>\n",
       "      <td>False</td>\n",
       "    </tr>\n",
       "    <tr>\n",
       "      <th>177</th>\n",
       "      <td>4</td>\n",
       "      <td>115.0</td>\n",
       "      <td>95.0</td>\n",
       "      <td>2694</td>\n",
       "      <td>15.0</td>\n",
       "      <td>75</td>\n",
       "      <td>False</td>\n",
       "      <td>False</td>\n",
       "    </tr>\n",
       "  </tbody>\n",
       "</table>\n",
       "</div>"
      ],
      "text/plain": [
       "     cylinders  displacement  horsepower  weight  acceleration  model_year  \\\n",
       "3            8         304.0       150.0    3433          12.0          70   \n",
       "18           4          97.0        88.0    2130          14.5          70   \n",
       "376          4          91.0        68.0    2025          18.2          82   \n",
       "248          4          91.0        60.0    1800          16.4          78   \n",
       "177          4         115.0        95.0    2694          15.0          75   \n",
       "\n",
       "     origin_japan  origin_usa  \n",
       "3           False        True  \n",
       "18           True       False  \n",
       "376          True       False  \n",
       "248          True       False  \n",
       "177         False       False  "
      ]
     },
     "execution_count": 405,
     "metadata": {},
     "output_type": "execute_result"
    }
   ],
   "source": [
    "X_train.head()"
   ]
  },
  {
   "cell_type": "code",
   "execution_count": 406,
   "id": "1b3b0e51",
   "metadata": {},
   "outputs": [
    {
     "data": {
      "text/plain": [
       "3      16.0\n",
       "18     27.0\n",
       "376    37.0\n",
       "248    36.1\n",
       "177    23.0\n",
       "Name: mpg, dtype: float64"
      ]
     },
     "execution_count": 406,
     "metadata": {},
     "output_type": "execute_result"
    }
   ],
   "source": [
    "y_train.head()"
   ]
  },
  {
   "cell_type": "markdown",
   "id": "a6a61110",
   "metadata": {},
   "source": [
    "b) Create a function for training a regression model, predicting and computing the metrics MAE, MSE, RMSE. It should take in parameters of X_train, X_test, y_train, y_test, model. Now create a linear regression model using scikit-learns LinearRegression() (OLS normal equation with SVD) and call your function to get metrics."
   ]
  },
  {
   "cell_type": "code",
   "execution_count": 407,
   "id": "6367cbb6",
   "metadata": {},
   "outputs": [
    {
     "name": "stdout",
     "output_type": "stream",
     "text": [
      "0.0 ≤ scaled_X_train ≤ 1.0\n",
      "0.0 ≤ scaled_X_test ≤ 1.0279329608938548\n"
     ]
    }
   ],
   "source": [
    "scaler = MinMaxScaler()\n",
    "scaler.fit(X_train)\n",
    "\n",
    "scaled_X_train = scaler.transform(X_train)\n",
    "scaled_X_test = scaler.transform(X_test)\n",
    "\n",
    "print(f\"{scaled_X_train.min()} ≤ scaled_X_train ≤ {scaled_X_train.max()}\")\n",
    "print(f\"{scaled_X_test.min()} ≤ scaled_X_test ≤ {scaled_X_test.max()}\")"
   ]
  },
  {
   "cell_type": "code",
   "execution_count": null,
   "id": "54d2d073",
   "metadata": {},
   "outputs": [
    {
     "name": "stdout",
     "output_type": "stream",
     "text": [
      "Parameters: [ -0.82831888   7.65319985  -2.60657571 -24.85570897   1.14183757\n",
      "   9.91163126  -0.27578067  -2.94690667]\n",
      "Intercept parameter: 28.261495187308054\n"
     ]
    }
   ],
   "source": [
    "model = LinearRegression()\n",
    "model.fit(scaled_X_train, y_train)\n",
    "print(f\"Parameters: {model.coef_}\")\n",
    "print(f\"Intercept parameter: {model.intercept_}\") "
   ]
  },
  {
   "cell_type": "code",
   "execution_count": 409,
   "id": "3ddb761c",
   "metadata": {},
   "outputs": [
    {
     "data": {
      "text/plain": [
       "cylinders           4\n",
       "displacement     91.0\n",
       "horsepower       53.0\n",
       "weight           1795\n",
       "acceleration     17.4\n",
       "model_year         76\n",
       "origin_japan     True\n",
       "origin_usa      False\n",
       "Name: 198, dtype: object"
      ]
     },
     "execution_count": 409,
     "metadata": {},
     "output_type": "execute_result"
    }
   ],
   "source": [
    "X_test.iloc[0]"
   ]
  },
  {
   "cell_type": "code",
   "execution_count": 410,
   "id": "7378cf10",
   "metadata": {},
   "outputs": [
    {
     "name": "stdout",
     "output_type": "stream",
     "text": [
      "Scaled features [[0.2        0.05943152 0.03910615 0.05160193 0.55952381 0.5\n",
      "  1.         0.        ]], label 33.0\n",
      "Prediction: [32.48505738]\n"
     ]
    }
   ],
   "source": [
    "test_sample_features = scaled_X_test[0].reshape(1, -1)\n",
    "test_sample_target = y_test.values[0]\n",
    "\n",
    "print(f\"Scaled features {test_sample_features}, label {test_sample_target}\")\n",
    "print(f\"Prediction: {model.predict(test_sample_features)}\")"
   ]
  },
  {
   "cell_type": "code",
   "execution_count": 411,
   "id": "dec2566e",
   "metadata": {},
   "outputs": [
    {
     "name": "stdout",
     "output_type": "stream",
     "text": [
      "MAE: 2.288158726714093, MSE: 8.338657478621618, RMSE: 2.887673367716927\n"
     ]
    }
   ],
   "source": [
    "y_pred = model.predict(scaled_X_test)\n",
    "\n",
    "mae = mean_absolute_error(y_test, y_pred)\n",
    "mse = mean_squared_error(y_test, y_pred)\n",
    "rmse = np.sqrt(mse)\n",
    "\n",
    "print(f\"MAE: {mae}, MSE: {mse}, RMSE: {rmse}\")"
   ]
  },
  {
   "cell_type": "code",
   "execution_count": null,
   "id": "2ab46f3d",
   "metadata": {},
   "outputs": [
    {
     "name": "stdout",
     "output_type": "stream",
     "text": [
      "        feature  coefficient\n",
      "5    model_year     9.911631\n",
      "1  displacement     7.653200\n",
      "4  acceleration     1.141838\n",
      "6  origin_japan    -0.275781\n",
      "0     cylinders    -0.828319\n",
      "2    horsepower    -2.606576\n",
      "7    origin_usa    -2.946907\n",
      "3        weight   -24.855709\n"
     ]
    }
   ],
   "source": [
    "# looking up what and how much the columns effects the algorithm\n",
    "coeffs = pd.DataFrame({\n",
    "    \"feature\": X.columns,\n",
    "    \"coefficient\": model.coef_\n",
    "}).sort_values(by=\"coefficient\", ascending=False)\n",
    "print(coeffs)"
   ]
  },
  {
   "cell_type": "code",
   "execution_count": 413,
   "id": "a36c5f50",
   "metadata": {},
   "outputs": [
    {
     "data": {
      "text/plain": [
       "Text(0, 0.5, 'Predicted MPG')"
      ]
     },
     "execution_count": 413,
     "metadata": {},
     "output_type": "execute_result"
    },
    {
     "data": {
      "image/png": "[encoded data removed]",
      "text/plain": [
       "<Figure size 640x480 with 1 Axes>"
      ]
     },
     "metadata": {},
     "output_type": "display_data"
    }
   ],
   "source": [
    "\n",
    "# visualise for a better understanding\n",
    "sns.scatterplot(x=y_test, y=y_pred)\n",
    "plt.plot([y_test.min(), y_test.max()],\n",
    "         [y_test.min(), y_test.max()],\n",
    "         'r--') \n",
    "plt.xlabel(\"True MPG\")\n",
    "plt.ylabel(\"Predicted MPG\")"
   ]
  }
 ],
 "metadata": {
  "kernelspec": {
   "display_name": "ai_engineering_elvira",
   "language": "python",
   "name": "python3"
  },
  "language_info": {
   "codemirror_mode": {
    "name": "ipython",
    "version": 3
   },
   "file_extension": ".py",
   "mimetype": "text/x-python",
   "name": "python",
   "nbconvert_exporter": "python",
   "pygments_lexer": "ipython3",
   "version": "3.13.1"
  }
 },
 "nbformat": 4,
 "nbformat_minor": 5
}
